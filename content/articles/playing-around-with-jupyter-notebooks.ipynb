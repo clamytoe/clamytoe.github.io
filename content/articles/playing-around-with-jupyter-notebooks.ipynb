{
 "cells": [
  {
   "cell_type": "markdown",
   "metadata": {},
   "source": [
    "# Seeing how notebooks compare to just plain Markdown"
   ]
  },
  {
   "cell_type": "markdown",
   "metadata": {},
   "source": [
    "## What is a Jupyter Notebook\n",
    "\n",
    "Well it's a document that lets you render markdown code, display code blocks, and also allows you to execute those code blocks and display their results interactively!\n",
    "Needless to say, they are definitely game changers.\n",
    "It's like the Python interpreter on steroids!\n",
    "\n",
    "They are perfect for academia, data scientist, and anyone else that wants to explore data and code and be able to reproduce and/or show how they did it all in the same document.\n",
    "There is a large movement in the scientific community to include the code that was used on research papers, and Notebooks are filling that niche perfectly!"
   ]
  },
  {
   "cell_type": "markdown",
   "metadata": {},
   "source": [
    "## Update to my newpost script\n",
    "\n",
    "To show a little bit about what Notebooks can do, I'll demonstrate by talking about my `newpost.py` script.\n",
    "I had orginally written it to create the basic structure of new blog posts, but in [Markdown](https://daringfireball.net/projects/markdown/).\n",
    "Since I'm going to start using [Jupyter Notebooks](https://jupyter.org/install.html) as well, I decided to spruce it up a bit and add support for them.\n",
    "I want to keep my notebooks, vanilla.\n",
    "Meaning that I don't want to shove the *metadata* required by [Pelican](https://blog.getpelican.com/) into them.\n",
    "Since I didn't know how much code went into a blank notebook, I decided to just dump the *metadata* into an `.nbdata` file.\n",
    "All that's left for me to do is to fire up JupyterLab, create a new book, and name it exactly like the `.nbdata` file.\n",
    "I didn't want to bother with typing it all out, so I used [Pyperclip](https://github.com/asweigart/pyperclip) to copy the *slug* name into my clipboard.\n",
    "Now a simple *paste* gets the job done!"
   ]
  },
  {
   "cell_type": "markdown",
   "metadata": {},
   "source": [
    "### Imports and constants"
   ]
  },
  {
   "cell_type": "markdown",
   "metadata": {},
   "source": [
    "The first thing any Python scripts starts with is importing all of the libraries that are going to be used at the beginning of the file, followed by any global variables."
   ]
  },
  {
   "cell_type": "code",
   "execution_count": 14,
   "metadata": {},
   "outputs": [],
   "source": [
    "from dataclasses import dataclass\n",
    "from datetime import datetime\n",
    "from pathlib import Path\n",
    "from typing import List\n",
    "\n",
    "import pyperclip\n",
    "\n",
    "AUTHOR = \"Martin Uribe\"\n",
    "ARTICLE_LOCATION = Path(\"content\", \"articles\")"
   ]
  },
  {
   "cell_type": "markdown",
   "metadata": {},
   "source": [
    "As you can see, that looks like any other code block that you normally see on blog posts, but this one is actually \"active\".\n",
    "Let me demonstrate. The following will be a simple Python `print()` command, and the output that follows will be generated and not typed in by me: <a href='javascript:toggle_code()'>[on/off]</a>"
   ]
  },
  {
   "cell_type": "code",
   "execution_count": 18,
   "metadata": {},
   "outputs": [
    {
     "name": "stdout",
     "output_type": "stream",
     "text": [
      "Martin is storing his blog articles in /home/mohh/Projects/ghpages/content/articles/content/articles\n"
     ]
    }
   ],
   "source": [
    "print(f\"{AUTHOR.split()[0]} is storing his blog articles in {ARTICLE_LOCATION.absolute()}\")"
   ]
  },
  {
   "cell_type": "markdown",
   "metadata": {},
   "source": [
    "Pretty nice, right?"
   ]
  },
  {
   "cell_type": "markdown",
   "metadata": {},
   "source": [
    "### Article class\n",
    "\n",
    "I think you're starting to see how powerful working in notebooks really is.\n",
    "Let's continue with the rest of the script.\n",
    "Here is the `Article` class that I created for it: <a href='javascript:toggle_code()'>[on/off]</a>"
   ]
  },
  {
   "cell_type": "code",
   "execution_count": 19,
   "metadata": {},
   "outputs": [],
   "source": [
    "@dataclass\n",
    "class Article:\n",
    "    title: str\n",
    "    category: str\n",
    "    tags: List[str]\n",
    "    summary: str\n",
    "    markdown: bool\n",
    "\n",
    "    def __post_init__(self):\n",
    "        self.category = self.category.title()\n",
    "        self.date = datetime.today().strftime(\"%Y-%m-%d %H:%M\")\n",
    "        self.slug = self.title.lower().replace(\" \", \"-\")\n",
    "        self.author = AUTHOR\n",
    "        if self.markdown:\n",
    "            self.location = ARTICLE_LOCATION.joinpath(f\"{self.slug}.md\")\n",
    "        else:\n",
    "            self.location = ARTICLE_LOCATION.joinpath(f\"{self.slug}.nbdata\")\n",
    "\n",
    "    def create_file(self):\n",
    "        header = f\"title: {self.title}\\n\"\n",
    "        header += f\"date: {self.date}\\n\"\n",
    "        header += f\"category: {self.category}\\n\"\n",
    "        header += f\"tags: {self.tags}\\n\"\n",
    "        header += f\"slug: {self.slug}\\n\"\n",
    "        header += f\"author: {self.author}\\n\"\n",
    "        header += f\"summary: {self.summary}\\n\"\n",
    "\n",
    "        if self.markdown:\n",
    "            header += f\"\\n# {self.title}\\n\\n\"\n",
    "        else:\n",
    "            pyperclip.copy(self.slug)\n",
    "\n",
    "        self.location.write_text(header)\n",
    "        print(f\"Generated new article: {self.location}\")"
   ]
  },
  {
   "cell_type": "markdown",
   "metadata": {},
   "source": [
    "Once again, this is all code that I can already start to interact with, but let me add the rest of the helper functions."
   ]
  },
  {
   "cell_type": "code",
   "execution_count": 20,
   "metadata": {},
   "outputs": [],
   "source": [
    "def get_bool(subject):\n",
    "    value = input(f\"{subject.capitalize():>10} [y]/n? \")\n",
    "    if not value:\n",
    "        return True\n",
    "    return False\n",
    "\n",
    "\n",
    "def get_input(subject):\n",
    "    value = input(f\"{subject:>10}: \")\n",
    "    if not value:\n",
    "        print(f\"No subject provided!\")\n",
    "        exit\n",
    "\n",
    "    return value.strip()\n",
    "\n",
    "\n",
    "def get_tags():\n",
    "    tags = []\n",
    "    while True:\n",
    "        tag = input(\"       tag: \")\n",
    "        if tag:\n",
    "            tags.append(tag.strip().lower())\n",
    "        else:\n",
    "            break\n",
    "\n",
    "    return \", \".join(tags)"
   ]
  },
  {
   "cell_type": "markdown",
   "metadata": {},
   "source": [
    "You can add functions in separate cells or all together like I did here, it really doesn't matter.\n",
    "The one thing that you have to keep in mind though is that these cell blocks can all be executed in any order, so it's easy to have \"old\" code in memory that can still be used when working on other parts.\n",
    "In cases like that where I've changed a lot of code, I like to just *Restart the Kernel and Rerun All Cells..* from the **Run** menu command from the JupyterLab interface.\n",
    "\n",
    "![kernel-reset]({static}/images/kernel-reset.png)"
   ]
  },
  {
   "cell_type": "markdown",
   "metadata": {},
   "source": [
    "### Playing around with the code\n",
    "\n",
    "So the core of the script is now loaded.\n",
    "Let's see what we can do.\n",
    "As you can tell from looking at the class, we have to instantiate an instance by providing the following:\n",
    "\n",
    "* **title**: *str*, A title for the new blog post\n",
    "* **category**: *str*, A category to file it under\n",
    "* **tags**: *List[str]*, A list of strings for the tags\n",
    "* **summary**: *str*, A summary of of what the blog is going to be about\n",
    "* **markdown**: *bool*, True or False if this is going to be a markdown file, if it's not it'll set it up for a notebook"
   ]
  },
  {
   "cell_type": "markdown",
   "metadata": {},
   "source": [
    "This is where the helper functions come in handy.\n",
    "I have the following execute when the script is ran: <a href='javascript:toggle_code()'>[on/off]</a> "
   ]
  },
  {
   "cell_type": "code",
   "execution_count": 23,
   "metadata": {},
   "outputs": [],
   "source": [
    "def main():\n",
    "    title = get_input(\"title\")\n",
    "    category = get_input(\"category\")\n",
    "    tags = get_tags()\n",
    "    summary = get_input(\"summary\")\n",
    "    markdown = get_bool(\"markdown\")\n",
    "    post = Article(title, category, tags, summary, markdown)\n",
    "#     post.create_file()"
   ]
  },
  {
   "cell_type": "markdown",
   "metadata": {},
   "source": [
    "I've commented out the last line that actually creates the file because I really don't want to create it at the moment, but let's the see the rest in action:"
   ]
  },
  {
   "cell_type": "code",
   "execution_count": 24,
   "metadata": {},
   "outputs": [
    {
     "name": "stdin",
     "output_type": "stream",
     "text": [
      "     title:  Super awesome new blog post\n",
      "  category:  Blog\n",
      "       tag:  pelican\n",
      "       tag:  python\n",
      "       tag:  jupyterlab\n",
      "       tag:  \n",
      "   summary:  Today we are going to cover the sigmoid function\n",
      "  Markdown [y]/n?  \n"
     ]
    }
   ],
   "source": [
    "main()"
   ]
  },
  {
   "cell_type": "markdown",
   "metadata": {},
   "source": [
    "Since the default is to create a markdown file, no answer was needed for the last question."
   ]
  },
  {
   "cell_type": "markdown",
   "metadata": {},
   "source": [
    "### Exploring the Article object\n",
    "\n",
    "Ok, so what did that actually do?\n",
    "Let's see!"
   ]
  },
  {
   "cell_type": "code",
   "execution_count": 25,
   "metadata": {},
   "outputs": [
    {
     "ename": "NameError",
     "evalue": "name 'post' is not defined",
     "output_type": "error",
     "traceback": [
      "\u001b[0;31m---------------------------------------------------------------------------\u001b[0m",
      "\u001b[0;31mNameError\u001b[0m                                 Traceback (most recent call last)",
      "\u001b[0;32m<ipython-input-25-9414b608df81>\u001b[0m in \u001b[0;36m<module>\u001b[0;34m\u001b[0m\n\u001b[0;32m----> 1\u001b[0;31m \u001b[0mpost\u001b[0m\u001b[0;34m\u001b[0m\u001b[0;34m\u001b[0m\u001b[0m\n\u001b[0m",
      "\u001b[0;31mNameError\u001b[0m: name 'post' is not defined"
     ]
    }
   ],
   "source": [
    "post"
   ]
  },
  {
   "cell_type": "markdown",
   "metadata": {},
   "source": [
    "Oh no, what happened?\n",
    "Well when I normally run the script, it automatically creates the new file for me.\n",
    "In this instance, it created the new `post` but it was lost in the `main` function because I didn't save its state!\n",
    "I'll leave it up to you to explore what it contains, but it's pretty easy to see that it just filled in everything that I need to boilerplate a new pelican blog post."
   ]
  },
  {
   "cell_type": "markdown",
   "metadata": {},
   "source": [
    "## How can you do the same\n",
    "\n",
    "Make sure that you're working in your virtual environment and go into the directory where you have your blog project.\n",
    "Create a plugins directory if you don't already have one and go into it.\n",
    "Then clone the plugin's repos directly into it."
   ]
  },
  {
   "cell_type": "markdown",
   "metadata": {},
   "source": [
    "```zsh\n",
    "# from inside your project folder\n",
    "mkdir plugins, cd $_\n",
    "git clone https://github.com/danielfrg/pelican-ipynb ipynb\n",
    "```"
   ]
  },
  {
   "cell_type": "markdown",
   "metadata": {},
   "source": [
    "Open up your `pelicanconf.py` file and make the following changes/additions:"
   ]
  },
  {
   "cell_type": "markdown",
   "metadata": {},
   "source": [
    "```python\n",
    "MARKUP = (\"md\", \"ipynb\")\n",
    "PLUGIN_PATHS = [\"./plugins\"]\n",
    "PLUGINS = [\"ipynb.markup\"]\n",
    "IGNORE_FILES = [\".ipynb_checkpoints\"]\n",
    "IPYNB_USE_METACELL = False  # set to True if you want to embedd metadata into notebook\n",
    "IPYNB_SKIP_CSS = True\n",
    "```"
   ]
  },
  {
   "cell_type": "markdown",
   "metadata": {},
   "source": [
    "Now, if you want to do what I'm doing and keep the *metadata* in its own file and out of the notebook, you'll have to create a file with the exact same name as the notebook but with the `.nbdata` extension.\n",
    "The one for this article looks like this:"
   ]
  },
  {
   "cell_type": "markdown",
   "metadata": {},
   "source": [
    "```\n",
    "title: Playing around with Jupyter notebooks\n",
    "date: 2020-03-09 19:43\n",
    "modified: 2020-03-10 08:17\n",
    "category: Blog\n",
    "tags: jupyter, notebook, python\n",
    "slug: playing-around-with-jupyter-notebooks\n",
    "author: Martin Uribe\n",
    "summary: Just giving the notebook plugin a test run to see how things render\n",
    "\n",
    "```"
   ]
  },
  {
   "cell_type": "markdown",
   "metadata": {},
   "source": [
    "Make sure there is an empty line at the end of the file.\n",
    "To embed directly into the notebook, modify it like this and put it in the first cell:"
   ]
  },
  {
   "cell_type": "markdown",
   "metadata": {},
   "source": [
    "```\n",
    "- title: Playing around with Jupyter notebooks\n",
    "- date: 2020-03-09 19:43\n",
    "- modified: 2020-03-10 08:17\n",
    "- category: Blog\n",
    "- tags: jupyter, notebook, python\n",
    "- slug: playing-around-with-jupyter-notebooks\n",
    "- author: Martin Uribe\n",
    "- summary: Just giving the notebook plugin a test run to see how things render\n",
    "```"
   ]
  },
  {
   "cell_type": "markdown",
   "metadata": {},
   "source": [
    "### Making it look pretty\n",
    "\n",
    "Originally when the notebook was being converted into html, it was putting anchor tags at the end of headings that I didn't like it. \n",
    "![nb-anchor]({static}/images/nb-anchor.png)\n",
    "Also, each code cell was getting a **In[1]** placed in front of it, indicating in which order it was run.\n",
    "I don't need or want any of those, any code that I post will be expected to be ran in order.\n",
    "To get rid of them, I created these custom CSS entries into the style sheet of my theme:\n",
    "\n",
    "```css\n",
    "\n",
    "// jupyter notebook\n",
    "a.anchor-link {\n",
    "    visibility: hidden;\n",
    "}\n",
    "\n",
    ".prompt, .output_prompt {\n",
    "    visibility: hidden;\n",
    "}\n",
    "```"
   ]
  },
  {
   "cell_type": "markdown",
   "metadata": {},
   "source": [
    "## Sample chart\n",
    "\n",
    "I can't showcase a notebook without throwing in a bonus chart!\n",
    "It's nothing fancy, but wanted to illustrate what is possible to do in these notebooks.\n",
    "I snagged this example from the excellent book \"Data Science from Scratch, Second Edition, by Joel Grus (O'Reilly). (C) 2019 Jeol Grus, 978-1-149-04113-9\""
   ]
  },
  {
   "cell_type": "code",
   "execution_count": 9,
   "metadata": {},
   "outputs": [
    {
     "data": {
      "image/png": "[encoded data removed]",
      "text/plain": [
       "<Figure size 432x288 with 1 Axes>"
      ]
     },
     "metadata": {
      "needs_background": "light"
     },
     "output_type": "display_data"
    }
   ],
   "source": [
    "import numpy as np\n",
    "import matplotlib.pyplot as plt\n",
    "\n",
    "%matplotlib inline\n",
    "\n",
    "variance     = [1, 2, 4, 8, 16, 32, 64, 128, 256]\n",
    "bias_squared = [256, 128, 64, 32, 16, 8, 4, 2, 1]\n",
    "total_error  = [x + y for x, y in zip(variance, bias_squared)]\n",
    "xs = [i for i, _ in enumerate(variance)]\n",
    "\n",
    "# We can make multiple calls to plt.plot\n",
    "# to show multiple series on the same chart\n",
    "plt.plot(xs, variance,     'g-',  label='variance')    # green solid line\n",
    "plt.plot(xs, bias_squared, 'r-.', label='bias^2')      # red dot-dashed line\n",
    "plt.plot(xs, total_error,  'b:',  label='total error') # blue dotted line\n",
    "\n",
    "# Because we've assigned labels to each series,\n",
    "# we can get a legend for free (loc=9 means \"top center\")\n",
    "plt.legend(loc=9)\n",
    "plt.xlabel(\"model complexity\")\n",
    "plt.xticks([])\n",
    "plt.title(\"The Bias-Variance Tradeoff\")\n",
    "plt.show()"
   ]
  },
  {
   "cell_type": "markdown",
   "metadata": {},
   "source": [
    "## Conclusion\n",
    "\n",
    "So far, I can't complain.\n",
    "This interface does seem a little nicer for some reason.\n",
    "Perhaps I need to change the black theme of my [VSCode](https://code.visualstudio.com/) back to normal and see if that makes a difference in the \"feels\" department.\n",
    "The notebook definitely gives me more options, but also takes some away.\n",
    "For instance, I can't use the [liquid_tags](https://github.com/getpelican/pelican-plugins/tree/master/liquid_tags) Pelican plugin!\n",
    "\n",
    "Like all things, it's going to take some more experimentation to see what works and what doesn't."
   ]
  }
 ],
 "metadata": {
  "kernelspec": {
   "display_name": "Python 3",
   "language": "python",
   "name": "python3"
  },
  "language_info": {
   "codemirror_mode": {
    "name": "ipython",
    "version": 3
   },
   "file_extension": ".py",
   "mimetype": "text/x-python",
   "name": "python",
   "nbconvert_exporter": "python",
   "pygments_lexer": "ipython3",
   "version": "3.8.1"
  }
 },
 "nbformat": 4,
 "nbformat_minor": 4
}
