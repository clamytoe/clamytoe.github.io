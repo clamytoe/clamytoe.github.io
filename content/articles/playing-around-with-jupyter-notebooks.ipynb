{
 "cells": [
  {
   "cell_type": "markdown",
   "metadata": {},
   "source": [
    "# Seeing how notebooks compare to just plain Markdown\n",
    "\n",
    "So far, I can't complain.\n",
    "This interface does seem a little nicer for some reason.\n",
    "Perhaps I need to change the black theme of my [VSCode](https://code.visualstudio.com/) back to normal and see if that makes a difference in the \"feels\" department.\n",
    "I'm still trying to keep to the rule of one sentence per line, but not sure if that will make a difference here since these are technically grouped together in \"cells\"."
   ]
  },
  {
   "cell_type": "markdown",
   "metadata": {},
   "source": [
    "## Update to my newpost script\n",
    "\n",
    "I had orginally created `newpost.py` to created the basic structure of new blog posts, but in [Markdown](https://daringfireball.net/projects/markdown/).\n",
    "Since I'm going to start using [Jupyter Notebooks](https://jupyter.org/install.html) as well, I decided to spruce it up a bit and add support for them.\n",
    "I want to keep my notebooks, vanilla.\n",
    "Meaning that I don't want to shove the *metadata* required by [Pelican](https://blog.getpelican.com/) into them.\n",
    "Since I didn't know how much code went into a blank notebook, I decided to just dump the *metadata* into an `.nbdata` file.\n",
    "All that's left for me to do is to fire up Jupyter, create a new book, and name it exactly like the `.nbdata` file.\n",
    "I didn't want to bother with typing it all out, so I used [Pyperclip](https://github.com/asweigart/pyperclip) to copy the *slug* name into my clipboard.\n",
    "Now a simple *paste* gets the job done!"
   ]
  },
  {
   "cell_type": "code",
   "execution_count": null,
   "metadata": {},
   "outputs": [],
   "source": [
    "from dataclasses import dataclass\n",
    "from datetime import datetime\n",
    "from pathlib import Path\n",
    "from typing import List\n",
    "\n",
    "import pyperclip\n",
    "\n",
    "AUTHOR = \"Martin Uribe\"\n",
    "ARTICLE_LOCATION = Path(\"content\", \"articles\")\n",
    "\n",
    "\n",
    "@dataclass\n",
    "class Article:\n",
    "    title: str\n",
    "    category: str\n",
    "    tags: List[str]\n",
    "    summary: str\n",
    "    markdown: bool\n",
    "\n",
    "    def __post_init__(self):\n",
    "        self.category = self.category.title()\n",
    "        self.date = datetime.today().strftime(\"%Y-%m-%d %H:%M\")\n",
    "        self.slug = self.title.lower().replace(\" \", \"-\")\n",
    "        self.author = AUTHOR\n",
    "        if self.markdown:\n",
    "            self.location = ARTICLE_LOCATION.joinpath(f\"{self.slug}.md\")\n",
    "        else:\n",
    "            self.location = ARTICLE_LOCATION.joinpath(f\"{self.slug}.nbdata\")\n",
    "\n",
    "    def create_file(self):\n",
    "        header = f\"title: {self.title}\\n\"\n",
    "        header += f\"date: {self.date}\\n\"\n",
    "        header += f\"category: {self.category}\\n\"\n",
    "        header += f\"tags: {self.tags}\\n\"\n",
    "        header += f\"slug: {self.slug}\\n\"\n",
    "        header += f\"author: {self.author}\\n\"\n",
    "        header += f\"summary: {self.summary}\\n\"\n",
    "\n",
    "        if self.markdown:\n",
    "            header += f\"\\n# {self.title}\\n\\n\"\n",
    "        else:\n",
    "            pyperclip.copy(self.slug)\n",
    "\n",
    "        self.location.write_text(header)\n",
    "        print(f\"Generated new article: {self.location}\")\n",
    "\n",
    "\n",
    "def get_bool(subject):\n",
    "    value = input(f\"{subject.capitalize():>10} [y]/n? \")\n",
    "    if not value:\n",
    "        return True\n",
    "    return False\n",
    "\n",
    "\n",
    "def get_input(subject):\n",
    "    value = input(f\"{subject:>10}: \")\n",
    "    if not value:\n",
    "        print(f\"No subject provided!\")\n",
    "        exit\n",
    "\n",
    "    return value.strip()\n",
    "\n",
    "\n",
    "def get_tags():\n",
    "    tags = []\n",
    "    while True:\n",
    "        tag = input(\"       tag: \")\n",
    "        if tag:\n",
    "            tags.append(tag.strip().lower())\n",
    "        else:\n",
    "            break\n",
    "\n",
    "    return \", \".join(tags)\n",
    "\n",
    "\n",
    "def main():\n",
    "    title = get_input(\"title\")\n",
    "    category = get_input(\"category\")\n",
    "    tags = get_tags()\n",
    "    summary = get_input(\"summary\")\n",
    "    markdown = get_bool(\"markdown\")\n",
    "    post = Article(title, category, tags, summary, markdown)\n",
    "    post.create_file()\n",
    "\n",
    "\n",
    "# if __name__ == \"__main__\":\n",
    "#     main()\n"
   ]
  },
  {
   "cell_type": "markdown",
   "metadata": {},
   "source": [
    "> I had to comment out the last bit of code, to prevent it from running in the notebook!"
   ]
  },
  {
   "cell_type": "markdown",
   "metadata": {},
   "source": [
    "## Conclusion\n",
    "\n",
    "I'll keep it short today. I basically just want to see how the output from this will look on the site and at the same time, show off my script :). I really don't like that marker that's being added to the end of the markdown cells, so I'll see if I can get rid of those..."
   ]
  }
 ],
 "metadata": {
  "kernelspec": {
   "display_name": "Python 3",
   "language": "python",
   "name": "python3"
  },
  "language_info": {
   "codemirror_mode": {
    "name": "ipython",
    "version": 3
   },
   "file_extension": ".py",
   "mimetype": "text/x-python",
   "name": "python",
   "nbconvert_exporter": "python",
   "pygments_lexer": "ipython3",
   "version": "3.8.1"
  }
 },
 "nbformat": 4,
 "nbformat_minor": 4
}